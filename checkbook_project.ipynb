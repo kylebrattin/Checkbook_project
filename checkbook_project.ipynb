{
 "cells": [
  {
   "cell_type": "code",
   "execution_count": 81,
   "id": "c1586b54-f118-4a88-a2fe-69d18700e645",
   "metadata": {
    "tags": []
   },
   "outputs": [],
   "source": [
    "import os\n",
    "import subprocess"
   ]
  },
  {
   "cell_type": "code",
   "execution_count": 91,
   "id": "1a15cc93-c01f-43df-8939-1ad73c472663",
   "metadata": {
    "tags": []
   },
   "outputs": [],
   "source": [
    "# function to get the overall balance if txt file exists by adding and subtracting from the deposit or withdrawal category for the overall total\n",
    "# if txt file does not exist, it returns a balance of none\n",
    "def get_balance():\n",
    "    balance = 0\n",
    "\n",
    "    if os.path.exists('checkbook.txt'):\n",
    "        with open('checkbook.txt', 'r') as f:\n",
    "            for line in f:\n",
    "                #takes a transaction from deposit or withdrawal functions\n",
    "                trans = line.strip().split(',')\n",
    "                # if the transaction is 'withdraw', then the transaction is subtracted from the running balance total\n",
    "                if trans[0] == 'Withdraw':\n",
    "                    balance -= float(trans[1])\n",
    "                # if the transaction is \"deposit\", then the transaction is added from the running balance total\n",
    "                elif trans[0] == 'Deposit':\n",
    "                    balance += float(trans[1])\n",
    "        return balance\n",
    "    \n",
    "    "
   ]
  },
  {
   "cell_type": "code",
   "execution_count": 92,
   "id": "a71c8d9f-ae96-4772-b68c-6b16f72e9521",
   "metadata": {
    "tags": []
   },
   "outputs": [],
   "source": [
    "# calls to the get_balance function to output the users balance\n",
    "def check_balance():\n",
    "    balance = get_balance()\n",
    "    print(f' Your Current Balance is: $ {balance}')\n",
    "    \n",
    "    \n",
    "    "
   ]
  },
  {
   "cell_type": "code",
   "execution_count": 93,
   "id": "04c78938-d59c-4ae2-a2b1-8e2eba432a2c",
   "metadata": {
    "tags": []
   },
   "outputs": [],
   "source": [
    "# if txt file does not exist, this will create one and save as 'withdraw, amount'\n",
    "# Define a function called withdrawal\n",
    "def withdrawal():\n",
    "    try:\n",
    "        # Prompt the user to input the amount they want to withdraw, and convert it to a floating-point number\n",
    "        amount = float(input('How much would you like to withdraw?1'))\n",
    "\n",
    "        # Check if a file named 'checkbook.txt' already exists\n",
    "        if os.path.exists('checkbook.txt'):\n",
    "            # If the file exists, open it in append mode ('a') and write a withdrawal record to it\n",
    "            with open('checkbook.txt', 'a') as f:\n",
    "                f.write(f' Withdraw, {amount}\\n')\n",
    "        else:\n",
    "            # If the file does not exist, create it and open it in write mode ('w')\n",
    "            with open('checkbook.txt', 'w') as f:\n",
    "                # Write a withdrawal record to the newly created file\n",
    "                f.write(f' Withdraw, {amount}\\n')\n",
    "    except ValueError:\n",
    "        # If the user input cannot be converted to a float, catch the ValueError and print an error message\n",
    "        print('This is not a valid number')\n",
    "\n",
    "\n"
   ]
  },
  {
   "cell_type": "code",
   "execution_count": 94,
   "id": "7ea92d92-d225-4a2f-962c-4dcaf5998d46",
   "metadata": {
    "tags": []
   },
   "outputs": [],
   "source": [
    "# Define a function called deposit\n",
    "def deposit():\n",
    "    # Use a try-except block to handle potential ValueErrors if the user enters an invalid input (not a number)\n",
    "    try:\n",
    "        # Prompt the user to input the amount they want to deposit and convert it to a floating-point number\n",
    "        amount = float(input('How much would you like to deposit?'))\n",
    "        \n",
    "        # Check if a file named 'checkbook.txt' already exists\n",
    "        if os.path.exists('checkbook.txt'):\n",
    "            # If the file exists, open it in append mode ('a') and write a deposit record to it\n",
    "            with open('checkbook.txt', 'a') as f:\n",
    "                f.write(f'Deposit,{amount}\\n')\n",
    "        else:\n",
    "            # If the file does not exist, create it and open it in write mode ('w')\n",
    "            with open('checkbook.txt', 'w') as f:\n",
    "                # Write a deposit record to the newly created file\n",
    "                f.write(f'Deposit, {amount}\\n')\n",
    "    except ValueError:\n",
    "        # If the user input cannot be converted to a float, catch the ValueError and print an error message\n",
    "        print('This is not a valid number')\n",
    "\n",
    "    \n",
    "\n"
   ]
  },
  {
   "cell_type": "code",
   "execution_count": 95,
   "id": "0bb2d2a2-fdc6-47e1-a4d5-2b55c7193a19",
   "metadata": {
    "tags": []
   },
   "outputs": [],
   "source": [
    "def invalid_response():\n",
    "    print('Invalid Response, choose 1 through 4')\n",
    "\n"
   ]
  },
  {
   "cell_type": "code",
   "execution_count": 96,
   "id": "75292a91-cc8a-42b7-9275-cdd8d848d62b",
   "metadata": {
    "tags": []
   },
   "outputs": [],
   "source": [
    "# exit the app, break app\n",
    "def exit_app():\n",
    "    print('Thanks, you have a great day!')\n",
    "    \n"
   ]
  },
  {
   "cell_type": "code",
   "execution_count": null,
   "id": "b2150976-a17b-4687-91be-677e6d84d74a",
   "metadata": {
    "tags": []
   },
   "outputs": [
    {
     "name": "stdout",
     "output_type": "stream",
     "text": [
      "~~~Hello! Welcome to your terminal checkbook!~~~\n",
      "\n",
      "What would you like to do?\n",
      "\n",
      "1.) Your Current Balance\n",
      "2.) Withdraw\n",
      "3.) Deposit\n",
      "4.) Exit Checkbook\n",
      "\n"
     ]
    }
   ],
   "source": [
    "print (f\"~~~Hello! Welcome to your terminal checkbook!~~~\")\n",
    "\n",
    "#amount will be the input variable\n",
    "amount = 0\n",
    "#balance will be the placeholder variable\n",
    "balance = 0\n",
    "# need a continuous loop until exit\n",
    "while True:\n",
    "    print('')\n",
    "    print('What would you like to do?')\n",
    "    print('')\n",
    "    # gives a menu\n",
    "    print('1.) Your Current Balance')\n",
    "    print('2.) Withdraw')\n",
    "    print('3.) Deposit')\n",
    "    print('4.) Exit Checkbook')\n",
    "    print('')\n",
    "    \n",
    "    # user input\n",
    "    choice = input('What is your choice?')\n",
    "\n",
    "    # user chooses '1' and the check_balance function runs\n",
    "    if (choice == '1'):\n",
    "            check_balance()\n",
    "    # user chooses '2' and the withdrawal function runs\n",
    "    elif (choice == '2'):\n",
    "            withdrawal()\n",
    "\n",
    "    # user chooses '3' and the deposit function runs\n",
    "    elif (choice == '3'):\n",
    "            deposit()\n",
    "\n",
    "    # will give the invalid statement as per project\n",
    "    elif (choice > '4'):\n",
    "            invalid_response()\n",
    "        \n",
    "    # will exit the app\n",
    "    else: \n",
    "            choice == '4'\n",
    "            exit_app()\n",
    "            break\n",
    "            \n",
    "            "
   ]
  },
  {
   "cell_type": "code",
   "execution_count": null,
   "id": "8876337f-032c-4cb6-b038-8f2c31d3153b",
   "metadata": {},
   "outputs": [],
   "source": [
    "\n",
    "\n",
    "\n",
    "\n"
   ]
  },
  {
   "cell_type": "code",
   "execution_count": null,
   "id": "77898ce9-34c1-4066-a87c-65c7aba78ef2",
   "metadata": {},
   "outputs": [],
   "source": [
    "\n",
    "\n",
    "\n"
   ]
  },
  {
   "cell_type": "code",
   "execution_count": null,
   "id": "c76177e0-98d6-40d7-96da-a7f363277844",
   "metadata": {},
   "outputs": [],
   "source": [
    "\n",
    "\n"
   ]
  },
  {
   "cell_type": "code",
   "execution_count": null,
   "id": "f5f9caab-7a85-4260-862a-ae84927a6ae4",
   "metadata": {},
   "outputs": [],
   "source": []
  },
  {
   "cell_type": "code",
   "execution_count": null,
   "id": "9f7c3b54-bf3e-4417-a05c-cc17753ec344",
   "metadata": {},
   "outputs": [],
   "source": []
  },
  {
   "cell_type": "code",
   "execution_count": null,
   "id": "eceb0ed1-27b8-499d-b5d3-752393b6e31c",
   "metadata": {},
   "outputs": [],
   "source": []
  }
 ],
 "metadata": {
  "kernelspec": {
   "display_name": "Python 3 (ipykernel)",
   "language": "python",
   "name": "python3"
  },
  "language_info": {
   "codemirror_mode": {
    "name": "ipython",
    "version": 3
   },
   "file_extension": ".py",
   "mimetype": "text/x-python",
   "name": "python",
   "nbconvert_exporter": "python",
   "pygments_lexer": "ipython3",
   "version": "3.11.4"
  }
 },
 "nbformat": 4,
 "nbformat_minor": 5
}
